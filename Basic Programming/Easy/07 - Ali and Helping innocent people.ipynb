{
 "cells": [
  {
   "cell_type": "markdown",
   "metadata": {},
   "source": [
    "### Question 07\n",
    "\n",
    "**Ali and Helping innocent people**\n",
    "\n",
    "https://www.hackerearth.com/practice/basic-programming/input-output/basics-of-input-output/practice-problems/algorithm/cartag-948c2b02/"
   ]
  },
  {
   "cell_type": "code",
   "execution_count": null,
   "metadata": {},
   "outputs": [],
   "source": [
    "def solve():\n",
    "    import sys\n",
    "    data = sys.stdin.read().strip()\n",
    "    if not data:\n",
    "        return\n",
    "    tag = data.strip()\n",
    "    \n",
    "    vowels = \"AEIOUY\"\n",
    "    if tag[2] in vowels:\n",
    "        sys.stdout.write(\"invalid\")\n",
    "        return\n",
    "    \n",
    "    group1 = tag[0:2]  \n",
    "    group2 = tag[3:6]   \n",
    "    group3 = tag[7:9]   \n",
    "    \n",
    "    groups = [group1, group2, group3]\n",
    "    \n",
    "\n",
    "    for group in groups:\n",
    "        for i in range(len(group) - 1):\n",
    "            if (int(group[i]) + int(group[i+1])) % 2 != 0:\n",
    "                sys.stdout.write(\"invalid\")\n",
    "                return\n",
    "    \n",
    "    sys.stdout.write(\"valid\")\n",
    "\n",
    "if __name__ == '__main__':\n",
    "    solve()\n"
   ]
  }
 ],
 "metadata": {
  "kernelspec": {
   "display_name": "Python 3",
   "language": "python",
   "name": "python3"
  },
  "language_info": {
   "codemirror_mode": {
    "name": "ipython",
    "version": 3
   },
   "file_extension": ".py",
   "mimetype": "text/x-python",
   "name": "python",
   "nbconvert_exporter": "python",
   "pygments_lexer": "ipython3",
   "version": "3.13.1"
  }
 },
 "nbformat": 4,
 "nbformat_minor": 2
}
