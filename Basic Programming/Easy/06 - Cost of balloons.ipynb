{
 "cells": [
  {
   "cell_type": "markdown",
   "metadata": {},
   "source": [
    "### Question 06\n",
    "\n",
    "**Cost of balloons**\n",
    "\n",
    "https://www.hackerearth.com/practice/basic-programming/input-output/basics-of-input-output/practice-problems/algorithm/mojtaba-prepares-contest-29b2a044/"
   ]
  },
  {
   "cell_type": "code",
   "execution_count": 9,
   "metadata": {},
   "outputs": [
    {
     "name": "stdout",
     "output_type": "stream",
     "text": [
      "69\n",
      "14\n"
     ]
    }
   ],
   "source": [
    "t = int(input())\n",
    "\n",
    "for _ in range(t):\n",
    "    green_cost, purple_cost = map(int, input().split())\n",
    "\n",
    "    n = int(input())\n",
    "\n",
    "    first_problem_solvers = 0\n",
    "    second_problem_solvers = 0\n",
    "\n",
    "    for _ in range(n):\n",
    "        p1, p2 = map(int, input().split())\n",
    "        \n",
    "        if p1 == 1:\n",
    "            first_problem_solvers += 1\n",
    "        if p2 == 1:\n",
    "            second_problem_solvers += 1\n",
    "\n",
    "        cost_option1 = (first_problem_solvers * green_cost) + (second_problem_solvers * purple_cost)\n",
    "        cost_option2 = (first_problem_solvers * purple_cost) + (second_problem_solvers * green_cost)\n",
    "\n",
    "    print(min(cost_option1, cost_option2))"
   ]
  }
 ],
 "metadata": {
  "kernelspec": {
   "display_name": "Python 3",
   "language": "python",
   "name": "python3"
  },
  "language_info": {
   "codemirror_mode": {
    "name": "ipython",
    "version": 3
   },
   "file_extension": ".py",
   "mimetype": "text/x-python",
   "name": "python",
   "nbconvert_exporter": "python",
   "pygments_lexer": "ipython3",
   "version": "3.13.1"
  }
 },
 "nbformat": 4,
 "nbformat_minor": 2
}
